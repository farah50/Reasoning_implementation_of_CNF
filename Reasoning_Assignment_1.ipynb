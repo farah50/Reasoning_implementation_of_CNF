{
  "nbformat": 4,
  "nbformat_minor": 0,
  "metadata": {
    "colab": {
      "provenance": []
    },
    "kernelspec": {
      "name": "python3",
      "display_name": "Python 3"
    },
    "language_info": {
      "name": "python"
    }
  },
  "cells": [
    {
      "cell_type": "code",
      "execution_count": 3,
      "metadata": {
        "id": "UGnvKV0TAvNw"
      },
      "outputs": [],
      "source": [
        "import nltk\n",
        "import sklearn as sk\n",
        "import pandas as pd\n",
        "import numpy as np\n",
        "import re"
      ]
    },
    {
      "cell_type": "code",
      "source": [
        "KB = [\n",
        "    \"∀𝑥:(𝑇(𝑥) => ~𝑀(𝑥))\",\n",
        "    \"∀𝑥∀𝑦∀𝑧:(𝑀(𝑥) => ~𝑀(𝑦) ∧ ~𝑀(𝑧))\",\n",
        "    \"∀x∀y∀z:(M(x) => (∃u G(u) ∧ H(x, y, z)))\",\n",
        "    \"T(𝐴𝑟𝑡ℎ𝑢𝑟) => 𝑀(𝐶𝑎𝑟𝑙𝑒𝑡𝑜𝑛)\",\n",
        "    \"~(T(𝐵𝑒𝑟𝑡𝑟𝑎𝑚) ∧ ~~𝑀(𝐵𝑒𝑟𝑡𝑟𝑎𝑚))\",\n",
        "    \"T(𝐶𝑎𝑟𝑙𝑒𝑡𝑜𝑛) => ~𝑀(𝐶𝑎𝑟𝑙𝑒𝑡𝑜𝑛)\",\n",
        "    \"~~T(𝐴𝑟𝑡ℎ𝑢𝑟)\",\n",
        "    \"T(𝐵𝑒𝑟𝑡𝑟𝑎𝑚)\"]\n",
        "\n",
        "goal = [\"~𝑇(𝐶𝑎𝑟𝑙𝑒𝑡𝑜𝑛) \", \"~𝑀(𝐴𝑟𝑡ℎ𝑢𝑟)\"]"
      ],
      "metadata": {
        "id": "uRWUssUFCDyy"
      },
      "execution_count": 4,
      "outputs": []
    },
    {
      "cell_type": "markdown",
      "source": [
        "#1- Eliminate implication"
      ],
      "metadata": {
        "id": "pnh6FFlc1DRn"
      }
    },
    {
      "cell_type": "code",
      "source": [
        "def eliminate_implication(KB):\n",
        "    new_KB = []\n",
        "    for sentence in KB:\n",
        "        if \"=>\" in sentence:\n",
        "            # Check if the sentence contains a colon indicating a quantifier\n",
        "            if \":\" in sentence:\n",
        "                quantifier, expression = sentence.split(\":\", 1)\n",
        "            else:\n",
        "                quantifier = \"\"\n",
        "                expression = sentence\n",
        "\n",
        "            # Split the expression into antecedent and consequent parts\n",
        "            antecedent, consequent = expression.split(\"=>\")\n",
        "            antecedent = antecedent.strip(\" ()\")\n",
        "            consequent = consequent.strip(\" ()\")\n",
        "\n",
        "            # Convert the implication to a disjunction\n",
        "            converted_sentence = f\"~{antecedent}) ∨ {consequent})\"\n",
        "\n",
        "            # Reassemble the sentence with the quantifier if it exists\n",
        "            if quantifier.strip():\n",
        "                new_KB.append(f\"{quantifier.strip()}:( {converted_sentence} )\")\n",
        "            else:\n",
        "                new_KB.append(converted_sentence)\n",
        "        else:\n",
        "            # If there is no implication, add the sentence as it is\n",
        "            new_KB.append(sentence.strip())\n",
        "    return new_KB\n",
        "\n",
        "\n",
        "new_KB = eliminate_implication(KB)\n",
        "print(\"Converted KB:\")\n",
        "for statement in new_KB:\n",
        "    print(statement)"
      ],
      "metadata": {
        "colab": {
          "base_uri": "https://localhost:8080/"
        },
        "id": "iYz1d0FK03CU",
        "outputId": "123cf351-4a18-4cd6-8c44-5fdb0604bda8"
      },
      "execution_count": 5,
      "outputs": [
        {
          "output_type": "stream",
          "name": "stdout",
          "text": [
            "Converted KB:\n",
            "∀𝑥:( ~𝑇(𝑥) ∨ ~𝑀(𝑥) )\n",
            "∀𝑥∀𝑦∀𝑧:( ~𝑀(𝑥) ∨ ~𝑀(𝑦) ∧ ~𝑀(𝑧) )\n",
            "∀x∀y∀z:( ~M(x) ∨ ∃u G(u) ∧ H(x, y, z) )\n",
            "~T(𝐴𝑟𝑡ℎ𝑢𝑟) ∨ 𝑀(𝐶𝑎𝑟𝑙𝑒𝑡𝑜𝑛)\n",
            "~(T(𝐵𝑒𝑟𝑡𝑟𝑎𝑚) ∧ ~~𝑀(𝐵𝑒𝑟𝑡𝑟𝑎𝑚))\n",
            "~T(𝐶𝑎𝑟𝑙𝑒𝑡𝑜𝑛) ∨ ~𝑀(𝐶𝑎𝑟𝑙𝑒𝑡𝑜𝑛)\n",
            "~~T(𝐴𝑟𝑡ℎ𝑢𝑟)\n",
            "T(𝐵𝑒𝑟𝑡𝑟𝑎𝑚)\n"
          ]
        }
      ]
    },
    {
      "cell_type": "markdown",
      "source": [
        "# remove_double_not"
      ],
      "metadata": {
        "id": "nFDvI_o02JQ2"
      }
    },
    {
      "cell_type": "code",
      "source": [
        "def remove_double_negation(KB):\n",
        "    for i in range(len(KB)):\n",
        "        KB[i] = KB[i].replace(\"~~\", \"\")\n",
        "\n",
        "# Update new_KB to remove double negations\n",
        "remove_double_negation(new_KB)\n",
        "\n",
        "print(\"Updated KB after removing double negations:\")\n",
        "for statement in new_KB:\n",
        "    print(statement)\n"
      ],
      "metadata": {
        "colab": {
          "base_uri": "https://localhost:8080/"
        },
        "id": "vACni0bG5eEj",
        "outputId": "10a19ba7-1595-4803-93ca-d1e826ec2982"
      },
      "execution_count": 6,
      "outputs": [
        {
          "output_type": "stream",
          "name": "stdout",
          "text": [
            "Updated KB after removing double negations:\n",
            "∀𝑥:( ~𝑇(𝑥) ∨ ~𝑀(𝑥) )\n",
            "∀𝑥∀𝑦∀𝑧:( ~𝑀(𝑥) ∨ ~𝑀(𝑦) ∧ ~𝑀(𝑧) )\n",
            "∀x∀y∀z:( ~M(x) ∨ ∃u G(u) ∧ H(x, y, z) )\n",
            "~T(𝐴𝑟𝑡ℎ𝑢𝑟) ∨ 𝑀(𝐶𝑎𝑟𝑙𝑒𝑡𝑜𝑛)\n",
            "~(T(𝐵𝑒𝑟𝑡𝑟𝑎𝑚) ∧ 𝑀(𝐵𝑒𝑟𝑡𝑟𝑎𝑚))\n",
            "~T(𝐶𝑎𝑟𝑙𝑒𝑡𝑜𝑛) ∨ ~𝑀(𝐶𝑎𝑟𝑙𝑒𝑡𝑜𝑛)\n",
            "T(𝐴𝑟𝑡ℎ𝑢𝑟)\n",
            "T(𝐵𝑒𝑟𝑡𝑟𝑎𝑚)\n"
          ]
        }
      ]
    },
    {
      "cell_type": "markdown",
      "source": [
        "# move_negation"
      ],
      "metadata": {
        "id": "jUlUWvEP1AYH"
      }
    },
    {
      "cell_type": "code",
      "source": [
        "def move_negation(statement):\n",
        "    if '~(' in statement and '∧' in statement:\n",
        "        statement = statement.replace('~(', '')\n",
        "        antecedent, consequent = statement.split('∧')\n",
        "        antecedent = f\"~{antecedent.strip()}\"\n",
        "        consequent = f\"~{consequent.strip()}\"\n",
        "        return f\"{antecedent} ∨ {consequent}\"\n",
        "\n",
        "    elif '~(' in statement and '∨' in statement:\n",
        "        statement = statement.replace('~(', '').replace(')', '')\n",
        "        antecedent, consequent = statement.split('∨')\n",
        "        antecedent = f\"~{antecedent.strip()}\"\n",
        "        consequent = f\"~{consequent.strip()}\"\n",
        "        return f\"{antecedent} ∧ {consequent}\"\n",
        "    else:\n",
        "        return statement\n",
        "\n",
        "\n",
        "for i in range(len(new_KB)):\n",
        "    new_KB[i] = move_negation(new_KB[i])\n",
        "\n",
        "for statement in new_KB:\n",
        "    print(statement)\n"
      ],
      "metadata": {
        "id": "Vs1x4CPA5drh",
        "colab": {
          "base_uri": "https://localhost:8080/"
        },
        "outputId": "f114268e-77c5-4a98-d802-046b71afd9de"
      },
      "execution_count": 7,
      "outputs": [
        {
          "output_type": "stream",
          "name": "stdout",
          "text": [
            "∀𝑥:( ~𝑇(𝑥) ∨ ~𝑀(𝑥) )\n",
            "∀𝑥∀𝑦∀𝑧:( ~𝑀(𝑥) ∨ ~𝑀(𝑦) ∧ ~𝑀(𝑧) )\n",
            "∀x∀y∀z:( ~M(x) ∨ ∃u G(u) ∧ H(x, y, z) )\n",
            "~T(𝐴𝑟𝑡ℎ𝑢𝑟) ∨ 𝑀(𝐶𝑎𝑟𝑙𝑒𝑡𝑜𝑛)\n",
            "~T(𝐵𝑒𝑟𝑡𝑟𝑎𝑚) ∨ ~𝑀(𝐵𝑒𝑟𝑡𝑟𝑎𝑚))\n",
            "~T(𝐶𝑎𝑟𝑙𝑒𝑡𝑜𝑛) ∨ ~𝑀(𝐶𝑎𝑟𝑙𝑒𝑡𝑜𝑛)\n",
            "T(𝐴𝑟𝑡ℎ𝑢𝑟)\n",
            "T(𝐵𝑒𝑟𝑡𝑟𝑎𝑚)\n"
          ]
        }
      ]
    },
    {
      "cell_type": "markdown",
      "source": [
        "# standardize_variable"
      ],
      "metadata": {
        "id": "6wA4_1M5lXYV"
      }
    },
    {
      "cell_type": "code",
      "source": [
        "\n",
        "def standardize_variables(KB):\n",
        "    for i, statement in enumerate(KB):\n",
        "        variable_map = {}\n",
        "        new_statement = statement\n",
        "        quantified_vars = re.findall(r'([∀∃])(\\w+)', statement)\n",
        "\n",
        "        for quantifier, var in quantified_vars:\n",
        "            if var not in variable_map:\n",
        "                # Create a unique new variable name within the scope of this statement\n",
        "                new_var = f\"{var}_{len(variable_map)+1}\"\n",
        "                variable_map[var] = new_var\n",
        "            else:\n",
        "                new_var = variable_map[var]\n",
        "\n",
        "            # Replace the old variable with the new one in the statement\n",
        "            new_statement = re.sub(rf'(?<=[∀∃]){var}\\b', new_var, new_statement)\n",
        "            new_statement = re.sub(rf'\\b{var}\\b', new_var, new_statement)\n",
        "\n",
        "        KB[i] = (new_statement)\n",
        "\n",
        "    return KB\n",
        "standardized_KB = standardize_variables(new_KB)\n",
        "print(\"Knowledge Base after standardizing variables:\")\n",
        "for statement in standardized_KB:\n",
        "    print(statement)"
      ],
      "metadata": {
        "colab": {
          "base_uri": "https://localhost:8080/"
        },
        "id": "_SnPSLSBlVKy",
        "outputId": "d76a9a88-6a64-4601-82d7-71d367fa1950"
      },
      "execution_count": 8,
      "outputs": [
        {
          "output_type": "stream",
          "name": "stdout",
          "text": [
            "Knowledge Base after standardizing variables:\n",
            "∀𝑥_1:( ~𝑇(𝑥_1) ∨ ~𝑀(𝑥_1) )\n",
            "∀𝑥_1∀𝑦_2∀𝑧_3:( ~𝑀(𝑥_1) ∨ ~𝑀(𝑦_2) ∧ ~𝑀(𝑧_3) )\n",
            "∀x_1∀y_2∀z_3:( ~M(x_1) ∨ ∃u_4 G(u_4) ∧ H(x_1, y_2, z_3) )\n",
            "~T(𝐴𝑟𝑡ℎ𝑢𝑟) ∨ 𝑀(𝐶𝑎𝑟𝑙𝑒𝑡𝑜𝑛)\n",
            "~T(𝐵𝑒𝑟𝑡𝑟𝑎𝑚) ∨ ~𝑀(𝐵𝑒𝑟𝑡𝑟𝑎𝑚))\n",
            "~T(𝐶𝑎𝑟𝑙𝑒𝑡𝑜𝑛) ∨ ~𝑀(𝐶𝑎𝑟𝑙𝑒𝑡𝑜𝑛)\n",
            "T(𝐴𝑟𝑡ℎ𝑢𝑟)\n",
            "T(𝐵𝑒𝑟𝑡𝑟𝑎𝑚)\n"
          ]
        }
      ]
    },
    {
      "cell_type": "markdown",
      "source": [
        "# move_quantifier_to_left"
      ],
      "metadata": {
        "id": "33XfGsav2QaG"
      }
    },
    {
      "cell_type": "code",
      "source": [
        "def move_quantifiers_to_left(KB):\n",
        "    for i, statement in enumerate(KB):\n",
        "        # Extract quantifiers and the rest of the statement\n",
        "        parts = re.findall(r'([∀∃]\\w+)', statement)\n",
        "        rest = re.sub(r'[∀∃]\\w+', '', statement)\n",
        "\n",
        "        # Concatenate all quantifiers and then append the rest of the statement\n",
        "        new_statement = ' '.join(parts) + ' ' + rest.strip()\n",
        "        KB[i] = (new_statement)\n",
        "\n",
        "    return KB\n",
        "moved_quantifiers_new_KB = move_quantifiers_to_left(new_KB)\n",
        "\n",
        "print(\"Knowledge Base after moving quantifiers to left:\")\n",
        "for statement in moved_quantifiers_new_KB:\n",
        "    print(statement)"
      ],
      "metadata": {
        "id": "l5sJSr8B6xz1",
        "colab": {
          "base_uri": "https://localhost:8080/"
        },
        "outputId": "1389dca8-cd7a-48df-a920-baa70427c404"
      },
      "execution_count": 9,
      "outputs": [
        {
          "output_type": "stream",
          "name": "stdout",
          "text": [
            "Knowledge Base after moving quantifiers to left:\n",
            "∀𝑥_1 :( ~𝑇(𝑥_1) ∨ ~𝑀(𝑥_1) )\n",
            "∀𝑥_1 ∀𝑦_2 ∀𝑧_3 :( ~𝑀(𝑥_1) ∨ ~𝑀(𝑦_2) ∧ ~𝑀(𝑧_3) )\n",
            "∀x_1 ∀y_2 ∀z_3 ∃u_4 :( ~M(x_1) ∨  G(u_4) ∧ H(x_1, y_2, z_3) )\n",
            " ~T(𝐴𝑟𝑡ℎ𝑢𝑟) ∨ 𝑀(𝐶𝑎𝑟𝑙𝑒𝑡𝑜𝑛)\n",
            " ~T(𝐵𝑒𝑟𝑡𝑟𝑎𝑚) ∨ ~𝑀(𝐵𝑒𝑟𝑡𝑟𝑎𝑚))\n",
            " ~T(𝐶𝑎𝑟𝑙𝑒𝑡𝑜𝑛) ∨ ~𝑀(𝐶𝑎𝑟𝑙𝑒𝑡𝑜𝑛)\n",
            " T(𝐴𝑟𝑡ℎ𝑢𝑟)\n",
            " T(𝐵𝑒𝑟𝑡𝑟𝑎𝑚)\n"
          ]
        }
      ]
    },
    {
      "cell_type": "markdown",
      "source": [
        "# eliminat_existential"
      ],
      "metadata": {
        "id": "Kv9Sg4Qa2ULP"
      }
    },
    {
      "cell_type": "code",
      "source": [
        "def eliminate_existential(KB):\n",
        "    for i in range(len(KB)):\n",
        "        # Use regex to remove ∀ and any following variable\n",
        "        KB[i] = re.sub(r'∃\\w+', '', KB[i])\n",
        "        KB[i] = re.sub(r'\\bu_4\\b', 'A', KB[i])\n",
        "\n",
        "eliminate_existential(new_KB)\n",
        "\n",
        "for statement in new_KB:\n",
        "    print(statement)"
      ],
      "metadata": {
        "id": "GgujZ3Xv6-6S",
        "colab": {
          "base_uri": "https://localhost:8080/"
        },
        "outputId": "9363581a-6781-42f9-9028-c431b8794943"
      },
      "execution_count": 10,
      "outputs": [
        {
          "output_type": "stream",
          "name": "stdout",
          "text": [
            "∀𝑥_1 :( ~𝑇(𝑥_1) ∨ ~𝑀(𝑥_1) )\n",
            "∀𝑥_1 ∀𝑦_2 ∀𝑧_3 :( ~𝑀(𝑥_1) ∨ ~𝑀(𝑦_2) ∧ ~𝑀(𝑧_3) )\n",
            "∀x_1 ∀y_2 ∀z_3  :( ~M(x_1) ∨  G(A) ∧ H(x_1, y_2, z_3) )\n",
            " ~T(𝐴𝑟𝑡ℎ𝑢𝑟) ∨ 𝑀(𝐶𝑎𝑟𝑙𝑒𝑡𝑜𝑛)\n",
            " ~T(𝐵𝑒𝑟𝑡𝑟𝑎𝑚) ∨ ~𝑀(𝐵𝑒𝑟𝑡𝑟𝑎𝑚))\n",
            " ~T(𝐶𝑎𝑟𝑙𝑒𝑡𝑜𝑛) ∨ ~𝑀(𝐶𝑎𝑟𝑙𝑒𝑡𝑜𝑛)\n",
            " T(𝐴𝑟𝑡ℎ𝑢𝑟)\n",
            " T(𝐵𝑒𝑟𝑡𝑟𝑎𝑚)\n"
          ]
        }
      ]
    },
    {
      "cell_type": "markdown",
      "source": [
        "# Eliminate_Universal"
      ],
      "metadata": {
        "id": "GUOrIucN2ONm"
      }
    },
    {
      "cell_type": "code",
      "source": [
        "def eliminate_universal(KB):\n",
        "    for i in range(len(KB)):\n",
        "        # Use regex to remove ∀ and any following variable\n",
        "        KB[i] = re.sub(r'∀\\w+','', KB[i])\n",
        "\n",
        "eliminate_universal(new_KB)\n",
        "\n",
        "for statement in new_KB:\n",
        "    print(statement)"
      ],
      "metadata": {
        "id": "RE82TOvH2X-6",
        "colab": {
          "base_uri": "https://localhost:8080/"
        },
        "outputId": "42254756-9676-4d91-b4b1-42ac9ea53f20"
      },
      "execution_count": 11,
      "outputs": [
        {
          "output_type": "stream",
          "name": "stdout",
          "text": [
            " :( ~𝑇(𝑥_1) ∨ ~𝑀(𝑥_1) )\n",
            "   :( ~𝑀(𝑥_1) ∨ ~𝑀(𝑦_2) ∧ ~𝑀(𝑧_3) )\n",
            "    :( ~M(x_1) ∨  G(A) ∧ H(x_1, y_2, z_3) )\n",
            " ~T(𝐴𝑟𝑡ℎ𝑢𝑟) ∨ 𝑀(𝐶𝑎𝑟𝑙𝑒𝑡𝑜𝑛)\n",
            " ~T(𝐵𝑒𝑟𝑡𝑟𝑎𝑚) ∨ ~𝑀(𝐵𝑒𝑟𝑡𝑟𝑎𝑚))\n",
            " ~T(𝐶𝑎𝑟𝑙𝑒𝑡𝑜𝑛) ∨ ~𝑀(𝐶𝑎𝑟𝑙𝑒𝑡𝑜𝑛)\n",
            " T(𝐴𝑟𝑡ℎ𝑢𝑟)\n",
            " T(𝐵𝑒𝑟𝑡𝑟𝑎𝑚)\n"
          ]
        }
      ]
    },
    {
      "cell_type": "markdown",
      "source": [
        "# distribution"
      ],
      "metadata": {
        "id": "95j0ib452btC"
      }
    },
    {
      "cell_type": "code",
      "source": [
        "def distribution(statement):\n",
        "    if '∧' in statement:\n",
        "        parts = re.findall(r'(~?\\w+\\([^)]+\\))', statement)\n",
        "        if len(parts) > 2:\n",
        "            first_part = parts[0]\n",
        "            remaining_parts = parts[1:]\n",
        "            distributed_parts = []\n",
        "\n",
        "            for part in remaining_parts:\n",
        "                distributed_part = f\"{first_part} ∨ {part}\"\n",
        "                distributed_parts.append(distributed_part)\n",
        "\n",
        "            return '\\n'.join(distributed_parts)\n",
        "    return statement\n",
        "\n",
        "for i in range(len(new_KB)):\n",
        "    new_KB[i] = distribution(new_KB[i])\n",
        "\n",
        "for statement in new_KB:\n",
        "    print(statement)"
      ],
      "metadata": {
        "id": "yd8pa1qW2eBv",
        "colab": {
          "base_uri": "https://localhost:8080/"
        },
        "outputId": "d1991c81-047e-44c8-f0f2-ea004e94e24f"
      },
      "execution_count": 12,
      "outputs": [
        {
          "output_type": "stream",
          "name": "stdout",
          "text": [
            " :( ~𝑇(𝑥_1) ∨ ~𝑀(𝑥_1) )\n",
            "~𝑀(𝑥_1) ∨ ~𝑀(𝑦_2)\n",
            "~𝑀(𝑥_1) ∨ ~𝑀(𝑧_3)\n",
            "~M(x_1) ∨ G(A)\n",
            "~M(x_1) ∨ H(x_1, y_2, z_3)\n",
            " ~T(𝐴𝑟𝑡ℎ𝑢𝑟) ∨ 𝑀(𝐶𝑎𝑟𝑙𝑒𝑡𝑜𝑛)\n",
            " ~T(𝐵𝑒𝑟𝑡𝑟𝑎𝑚) ∨ ~𝑀(𝐵𝑒𝑟𝑡𝑟𝑎𝑚))\n",
            " ~T(𝐶𝑎𝑟𝑙𝑒𝑡𝑜𝑛) ∨ ~𝑀(𝐶𝑎𝑟𝑙𝑒𝑡𝑜𝑛)\n",
            " T(𝐴𝑟𝑡ℎ𝑢𝑟)\n",
            " T(𝐵𝑒𝑟𝑡𝑟𝑎𝑚)\n"
          ]
        }
      ]
    },
    {
      "cell_type": "markdown",
      "source": [
        "# negate_goal"
      ],
      "metadata": {
        "id": "WNliAWKw2fhm"
      }
    },
    {
      "cell_type": "code",
      "source": [
        "for statement in goal:\n",
        "    negated_goal = \"~\" + statement.strip(\"~\")\n",
        "    new_KB.append(negated_goal)\n",
        "\n",
        "for statement in new_KB:\n",
        "    print(statement)"
      ],
      "metadata": {
        "id": "Kit4_7Mg2jyV",
        "colab": {
          "base_uri": "https://localhost:8080/"
        },
        "outputId": "8b2ca34c-15a2-405b-fd80-41eebd192fc9"
      },
      "execution_count": 13,
      "outputs": [
        {
          "output_type": "stream",
          "name": "stdout",
          "text": [
            " :( ~𝑇(𝑥_1) ∨ ~𝑀(𝑥_1) )\n",
            "~𝑀(𝑥_1) ∨ ~𝑀(𝑦_2)\n",
            "~𝑀(𝑥_1) ∨ ~𝑀(𝑧_3)\n",
            "~M(x_1) ∨ G(A)\n",
            "~M(x_1) ∨ H(x_1, y_2, z_3)\n",
            " ~T(𝐴𝑟𝑡ℎ𝑢𝑟) ∨ 𝑀(𝐶𝑎𝑟𝑙𝑒𝑡𝑜𝑛)\n",
            " ~T(𝐵𝑒𝑟𝑡𝑟𝑎𝑚) ∨ ~𝑀(𝐵𝑒𝑟𝑡𝑟𝑎𝑚))\n",
            " ~T(𝐶𝑎𝑟𝑙𝑒𝑡𝑜𝑛) ∨ ~𝑀(𝐶𝑎𝑟𝑙𝑒𝑡𝑜𝑛)\n",
            " T(𝐴𝑟𝑡ℎ𝑢𝑟)\n",
            " T(𝐵𝑒𝑟𝑡𝑟𝑎𝑚)\n",
            "~𝑇(𝐶𝑎𝑟𝑙𝑒𝑡𝑜𝑛) \n",
            "~𝑀(𝐴𝑟𝑡ℎ𝑢𝑟)\n"
          ]
        }
      ]
    },
    {
      "cell_type": "markdown",
      "source": [
        "# arrive to empty clause{ }"
      ],
      "metadata": {
        "id": "GHtxefzOT2Qo"
      }
    },
    {
      "cell_type": "code",
      "source": [
        "def resolution(KB):
          # Normalize the knowledge base into CNF if not already in CNF
          normalized_KB = KB
      
          # Initialize a set or list to hold new clauses derived during the process
          new_clauses = set()
      
          while True:
              # Apply the resolution rule to all pairs of clauses in the knowledge base
              for i in range(len(normalized_KB)):
                  for j in range(i + 1, len(normalized_KB)):
                      resolved_clause = resolve(normalized_KB[i], normalized_KB[j])
      
                      # Check if the resolved_clause is the empty clause
                      if resolved_clause == "{}":
                          return True  # Empty clause found, indicating a contradiction or proof completion
      
                      if resolved_clause and resolved_clause not in normalized_KB:
                          new_clauses.add(resolved_clause)
      
              # If no new clauses were added, stop the process
              if not new_clauses:
                  break
      
              # Add the newly derived clauses to the knowledge base
              normalized_KB.update(new_clauses)
              new_clauses.clear()
      
          return False  # No empty clause found
      
      def resolve(clause1, clause2):
          # Split the clauses into sets of literals
          literals1 = set(clause1.split(' ∨ '))
          literals2 = set(clause2.split(' ∨ '))
      
          # Find complementary literals and resolve
          for literal in literals1:
              negation = '¬' + literal if literal[0] != '¬' else literal[1:]
              if negation in literals2:
                  # Remove the complementary literals
                  new_literals1 = literals1 - {literal}
                  new_literals2 = literals2 - {negation}
                  # Combine the remaining literals to form the resolved clause
                  resolved_clause = ' ∨ '.join(new_literals1 | new_literals2)
                  return resolved_clause if resolved_clause else "{}"  # Return empty clause if no literals remain
      
          # Return None if no resolution is possible
          return None
      
      
      # Assuming new_KB is your knowledge base
      result = resolution(new_KB)
      print("Empty clause derived:", result)
      ],
      "metadata": {
        "colab": {
          "base_uri": "https://localhost:8080/"
        },
        "id": "N2VeVnAJ1lUr",
        "outputId": "7b0c063d-3983-4282-ce7a-c3de6d069c0c"
      },
      "execution_count": 15,
      "outputs": [
        {
          "output_type": "stream",
          "name": "stdout",
          "text": [
            "Empty clause not derived, The given knowledge base is satisfiable.\n"
          ]
        }
      ]
    }
  ]
}