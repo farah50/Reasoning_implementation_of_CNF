{
  "nbformat": 4,
  "nbformat_minor": 0,
  "metadata": {
    "colab": {
      "provenance": []
    },
    "kernelspec": {
      "name": "python3",
      "display_name": "Python 3"
    },
    "language_info": {
      "name": "python"
    }
  },
  "cells": [
    {
      "cell_type": "code",
      "execution_count": null,
      "metadata": {
        "id": "UGnvKV0TAvNw"
      },
      "outputs": [],
      "source": [
        "import nltk\n",
        "import sklearn as sk\n",
        "import pandas as pd\n",
        "import numpy as np\n",
        "import re"
      ]
    },
    {
      "cell_type": "code",
      "source": [
        "KB = [\n",
        "    \"∀𝑥:(𝑇(𝑥) => ~𝑀(𝑥))\",\n",
        "    \"∀𝑥∀𝑦∀𝑧:(𝑀(𝑥) => ~𝑀(𝑦) ∧ ~𝑀(𝑧))\",\n",
        "    \"∀x∀y∀z:(M(x) => (∃u G(u) ∧ H(x, y, z)))\",\n",
        "    \"T(𝐴𝑟𝑡ℎ𝑢𝑟) => 𝑀(𝐶𝑎𝑟𝑙𝑒𝑡𝑜𝑛)\",\n",
        "    \"~(T(𝐵𝑒𝑟𝑡𝑟𝑎𝑚) ∧ ~~𝑀(𝐵𝑒𝑟𝑡𝑟𝑎𝑚))\",\n",
        "    \"T(𝐶𝑎𝑟𝑙𝑒𝑡𝑜𝑛) => ~𝑀(𝐶𝑎𝑟𝑙𝑒𝑡𝑜𝑛)\",\n",
        "    \"~~T(𝐴𝑟𝑡ℎ𝑢𝑟)\",\n",
        "    \"T(𝐵𝑒𝑟𝑡𝑟𝑎𝑚)\"]\n",
        "\n",
        "goal = [\"~𝑇(𝐶𝑎𝑟𝑙𝑒𝑡𝑜𝑛) \", \"~𝑀(𝐴𝑟𝑡ℎ𝑢𝑟)\"]"
      ],
      "metadata": {
        "id": "uRWUssUFCDyy"
      },
      "execution_count": null,
      "outputs": []
    },
    {
      "cell_type": "markdown",
      "source": [
        "#1- Eliminate implication"
      ],
      "metadata": {
        "id": "pnh6FFlc1DRn"
      }
    },
    {
      "cell_type": "code",
      "source": [
        "def eliminate_implication(KB):\n",
        "    new_KB = []\n",
        "    for sentence in KB:\n",
        "        if \"=>\" in sentence:\n",
        "            # Check if the sentence contains a colon indicating a quantifier\n",
        "            if \":\" in sentence:\n",
        "                quantifier, expression = sentence.split(\":\", 1)\n",
        "            else:\n",
        "                quantifier = \"\"\n",
        "                expression = sentence\n",
        "\n",
        "            # Split the expression into antecedent and consequent parts\n",
        "            part_before, part_after = expression.split(\"=>\")\n",
        "            part_before = part_before.strip(\" ()\")\n",
        "            part_after = part_after.strip(\" ()\")\n",
        "\n",
        "            # Convert the implication to a disjunction\n",
        "            converted_sentence = f\"~{part_before}) ∨ {part_after})\"\n",
        "\n",
        "            # Reassemble the sentence with the quantifier if it exists\n",
        "            if quantifier.strip():\n",
        "                new_KB.append(f\"{quantifier.strip()}:( {converted_sentence} )\")\n",
        "            else:\n",
        "                new_KB.append(converted_sentence)\n",
        "        else:\n",
        "            # If there is no implication, add the sentence as it is\n",
        "            new_KB.append(sentence.strip())\n",
        "    return new_KB\n",
        "\n",
        "\n",
        "new_KB = eliminate_implication(KB)\n",
        "print(\"Converted KB:\")\n",
        "for statement in new_KB:\n",
        "    print(statement)"
      ],
      "metadata": {
        "colab": {
          "base_uri": "https://localhost:8080/"
        },
        "id": "iYz1d0FK03CU",
        "outputId": "b1eff161-0403-45db-8eae-a39a16cf271d"
      },
      "execution_count": null,
      "outputs": [
        {
          "output_type": "stream",
          "name": "stdout",
          "text": [
            "Converted KB:\n",
            "∀𝑥:( ~𝑇(𝑥) ∨ ~𝑀(𝑥) )\n",
            "∀𝑥∀𝑦∀𝑧:( ~𝑀(𝑥) ∨ ~𝑀(𝑦) ∧ ~𝑀(𝑧) )\n",
            "∀x∀y∀z:( ~M(x) ∨ ∃u G(u) ∧ H(x, y, z) )\n",
            "~T(𝐴𝑟𝑡ℎ𝑢𝑟) ∨ 𝑀(𝐶𝑎𝑟𝑙𝑒𝑡𝑜𝑛)\n",
            "~(T(𝐵𝑒𝑟𝑡𝑟𝑎𝑚) ∧ ~~𝑀(𝐵𝑒𝑟𝑡𝑟𝑎𝑚))\n",
            "~T(𝐶𝑎𝑟𝑙𝑒𝑡𝑜𝑛) ∨ ~𝑀(𝐶𝑎𝑟𝑙𝑒𝑡𝑜𝑛)\n",
            "~~T(𝐴𝑟𝑡ℎ𝑢𝑟)\n",
            "T(𝐵𝑒𝑟𝑡𝑟𝑎𝑚)\n"
          ]
        }
      ]
    },
    {
      "cell_type": "markdown",
      "source": [
        "# Remove_double_not"
      ],
      "metadata": {
        "id": "nFDvI_o02JQ2"
      }
    },
    {
      "cell_type": "code",
      "source": [
        "def remove_double_negation(KB):\n",
        "    for i in range(len(KB)):\n",
        "        KB[i] = KB[i].replace(\"~~\", \"\")\n",
        "\n",
        "# Update new_KB to remove double negations\n",
        "remove_double_negation(new_KB)\n",
        "\n",
        "print(\"Updated KB after removing double negations:\")\n",
        "for statement in new_KB:\n",
        "    print(statement)\n"
      ],
      "metadata": {
        "colab": {
          "base_uri": "https://localhost:8080/"
        },
        "id": "vACni0bG5eEj",
        "outputId": "410d42f7-b24a-4355-a299-304b5b2f3d65"
      },
      "execution_count": null,
      "outputs": [
        {
          "output_type": "stream",
          "name": "stdout",
          "text": [
            "Updated KB after removing double negations:\n",
            "∀𝑥:( ~𝑇(𝑥) ∨ ~𝑀(𝑥) )\n",
            "∀𝑥∀𝑦∀𝑧:( ~𝑀(𝑥) ∨ ~𝑀(𝑦) ∧ ~𝑀(𝑧) )\n",
            "∀x∀y∀z:( ~M(x) ∨ ∃u G(u) ∧ H(x, y, z) )\n",
            "~T(𝐴𝑟𝑡ℎ𝑢𝑟) ∨ 𝑀(𝐶𝑎𝑟𝑙𝑒𝑡𝑜𝑛)\n",
            "~(T(𝐵𝑒𝑟𝑡𝑟𝑎𝑚) ∧ 𝑀(𝐵𝑒𝑟𝑡𝑟𝑎𝑚))\n",
            "~T(𝐶𝑎𝑟𝑙𝑒𝑡𝑜𝑛) ∨ ~𝑀(𝐶𝑎𝑟𝑙𝑒𝑡𝑜𝑛)\n",
            "T(𝐴𝑟𝑡ℎ𝑢𝑟)\n",
            "T(𝐵𝑒𝑟𝑡𝑟𝑎𝑚)\n"
          ]
        }
      ]
    },
    {
      "cell_type": "markdown",
      "source": [
        "# move_negation"
      ],
      "metadata": {
        "id": "jUlUWvEP1AYH"
      }
    },
    {
      "cell_type": "code",
      "source": [
        "def move_negation(statement):\n",
        "    if '~(' in statement and '∧' in statement:\n",
        "        statement = statement.replace('~(', '')\n",
        "        part_before, part_after = statement.split('∧')\n",
        "        part_before = f\"~{part_before.strip()}\"\n",
        "        part_after = f\"~{part_after.strip()}\"\n",
        "        return f\"{part_before} ∨ {part_after}\"\n",
        "\n",
        "    elif '~(' in statement and '∨' in statement:\n",
        "        statement = statement.replace('~(', '').replace(')', '')\n",
        "        part_before, part_after = statement.split('∨')\n",
        "        part_before = f\"~{part_before.strip()}\"\n",
        "        part_after = f\"~{part_after.strip()}\"\n",
        "        return f\"{part_before} ∧ {part_after}\"\n",
        "    else:\n",
        "        return statement\n",
        "\n",
        "\n",
        "for i in range(len(new_KB)):\n",
        "    new_KB[i] = move_negation(new_KB[i])\n",
        "\n",
        "for statement in new_KB:\n",
        "    print(statement)\n"
      ],
      "metadata": {
        "id": "Vs1x4CPA5drh",
        "colab": {
          "base_uri": "https://localhost:8080/"
        },
        "outputId": "588cc2a0-3f50-439d-9050-2f1fb568ac8d"
      },
      "execution_count": null,
      "outputs": [
        {
          "output_type": "stream",
          "name": "stdout",
          "text": [
            "∀𝑥:( ~𝑇(𝑥) ∨ ~𝑀(𝑥) )\n",
            "∀𝑥∀𝑦∀𝑧:( ~𝑀(𝑥) ∨ ~𝑀(𝑦) ∧ ~𝑀(𝑧) )\n",
            "∀x∀y∀z:( ~M(x) ∨ ∃u G(u) ∧ H(x, y, z) )\n",
            "~T(𝐴𝑟𝑡ℎ𝑢𝑟) ∨ 𝑀(𝐶𝑎𝑟𝑙𝑒𝑡𝑜𝑛)\n",
            "~T(𝐵𝑒𝑟𝑡𝑟𝑎𝑚) ∨ ~𝑀(𝐵𝑒𝑟𝑡𝑟𝑎𝑚))\n",
            "~T(𝐶𝑎𝑟𝑙𝑒𝑡𝑜𝑛) ∨ ~𝑀(𝐶𝑎𝑟𝑙𝑒𝑡𝑜𝑛)\n",
            "T(𝐴𝑟𝑡ℎ𝑢𝑟)\n",
            "T(𝐵𝑒𝑟𝑡𝑟𝑎𝑚)\n"
          ]
        }
      ]
    },
    {
      "cell_type": "markdown",
      "source": [
        "# standardize_variable"
      ],
      "metadata": {
        "id": "6wA4_1M5lXYV"
      }
    },
    {
      "cell_type": "code",
      "source": [
        "\n",
        "def standardize_variables(KB):\n",
        "    for i, statement in enumerate(KB):\n",
        "        variable_map = {}\n",
        "        new_statement = statement\n",
        "        quantified_vars = re.findall(r'([∀∃])(\\w+)', statement)\n",
        "\n",
        "        for quantifier, var in quantified_vars:\n",
        "            if var not in variable_map:\n",
        "                # Create a unique new variable name within the scope of this statement\n",
        "                new_var = f\"{var}_{len(variable_map)+1}\"\n",
        "                variable_map[var] = new_var\n",
        "            else:\n",
        "                new_var = variable_map[var]\n",
        "\n",
        "            # Replace the old variable with the new one in the statement\n",
        "            new_statement = re.sub(rf'(?<=[∀∃]){var}\\b', new_var, new_statement)\n",
        "            new_statement = re.sub(rf'\\b{var}\\b', new_var, new_statement)\n",
        "\n",
        "        KB[i] = (new_statement)\n",
        "\n",
        "    return KB\n",
        "standardized_KB = standardize_variables(new_KB)\n",
        "print(\"Knowledge Base after standardizing variables:\")\n",
        "for statement in standardized_KB:\n",
        "    print(statement)"
      ],
      "metadata": {
        "colab": {
          "base_uri": "https://localhost:8080/"
        },
        "id": "_SnPSLSBlVKy",
        "outputId": "09f55c8b-f69b-4580-c56f-24fcbc396054"
      },
      "execution_count": null,
      "outputs": [
        {
          "output_type": "stream",
          "name": "stdout",
          "text": [
            "Knowledge Base after standardizing variables:\n",
            "∀𝑥_1:( ~𝑇(𝑥_1) ∨ ~𝑀(𝑥_1) )\n",
            "∀𝑥_1∀𝑦_2∀𝑧_3:( ~𝑀(𝑥_1) ∨ ~𝑀(𝑦_2) ∧ ~𝑀(𝑧_3) )\n",
            "∀x_1∀y_2∀z_3:( ~M(x_1) ∨ ∃u_4 G(u_4) ∧ H(x_1, y_2, z_3) )\n",
            "~T(𝐴𝑟𝑡ℎ𝑢𝑟) ∨ 𝑀(𝐶𝑎𝑟𝑙𝑒𝑡𝑜𝑛)\n",
            "~T(𝐵𝑒𝑟𝑡𝑟𝑎𝑚) ∨ ~𝑀(𝐵𝑒𝑟𝑡𝑟𝑎𝑚))\n",
            "~T(𝐶𝑎𝑟𝑙𝑒𝑡𝑜𝑛) ∨ ~𝑀(𝐶𝑎𝑟𝑙𝑒𝑡𝑜𝑛)\n",
            "T(𝐴𝑟𝑡ℎ𝑢𝑟)\n",
            "T(𝐵𝑒𝑟𝑡𝑟𝑎𝑚)\n"
          ]
        }
      ]
    },
    {
      "cell_type": "markdown",
      "source": [
        "# move_quantifier_to_left"
      ],
      "metadata": {
        "id": "33XfGsav2QaG"
      }
    },
    {
      "cell_type": "code",
      "source": [
        "def move_quantifiers_to_left(KB):\n",
        "    for i, statement in enumerate(KB):\n",
        "        # Extract quantifiers and the rest of the statement\n",
        "        parts = re.findall(r'([∀∃]\\w+)', statement)\n",
        "        rest = re.sub(r'[∀∃]\\w+', '', statement)\n",
        "\n",
        "        # Concatenate all quantifiers and then append the rest of the statement\n",
        "        new_statement = ' '.join(parts) + ' ' + rest.strip()\n",
        "        KB[i] = (new_statement)\n",
        "\n",
        "    return KB\n",
        "moved_quantifiers_new_KB = move_quantifiers_to_left(new_KB)\n",
        "\n",
        "print(\"Knowledge Base after moving quantifiers to left:\")\n",
        "for statement in moved_quantifiers_new_KB:\n",
        "    print(statement)"
      ],
      "metadata": {
        "id": "l5sJSr8B6xz1",
        "colab": {
          "base_uri": "https://localhost:8080/"
        },
        "outputId": "fa70e42a-0349-4f0c-cbc6-1d0f2a42b4cb"
      },
      "execution_count": null,
      "outputs": [
        {
          "output_type": "stream",
          "name": "stdout",
          "text": [
            "Knowledge Base after moving quantifiers to left:\n",
            "∀𝑥_1 :( ~𝑇(𝑥_1) ∨ ~𝑀(𝑥_1) )\n",
            "∀𝑥_1 ∀𝑦_2 ∀𝑧_3 :( ~𝑀(𝑥_1) ∨ ~𝑀(𝑦_2) ∧ ~𝑀(𝑧_3) )\n",
            "∀x_1 ∀y_2 ∀z_3 ∃u_4 :( ~M(x_1) ∨  G(u_4) ∧ H(x_1, y_2, z_3) )\n",
            " ~T(𝐴𝑟𝑡ℎ𝑢𝑟) ∨ 𝑀(𝐶𝑎𝑟𝑙𝑒𝑡𝑜𝑛)\n",
            " ~T(𝐵𝑒𝑟𝑡𝑟𝑎𝑚) ∨ ~𝑀(𝐵𝑒𝑟𝑡𝑟𝑎𝑚))\n",
            " ~T(𝐶𝑎𝑟𝑙𝑒𝑡𝑜𝑛) ∨ ~𝑀(𝐶𝑎𝑟𝑙𝑒𝑡𝑜𝑛)\n",
            " T(𝐴𝑟𝑡ℎ𝑢𝑟)\n",
            " T(𝐵𝑒𝑟𝑡𝑟𝑎𝑚)\n"
          ]
        }
      ]
    },
    {
      "cell_type": "markdown",
      "source": [
        "# Eliminat_existential"
      ],
      "metadata": {
        "id": "Kv9Sg4Qa2ULP"
      }
    },
    {
      "cell_type": "code",
      "source": [
        "def eliminate_existential(KB):\n",
        "    for i in range(len(KB)):\n",
        "        # Use regex to remove ∀ and any following variable\n",
        "        KB[i] = re.sub(r'∃\\w+', '', KB[i])\n",
        "        KB[i] = re.sub(r'\\bu_4\\b', 'A', KB[i])\n",
        "\n",
        "eliminate_existential(new_KB)\n",
        "\n",
        "for statement in new_KB:\n",
        "    print(statement)"
      ],
      "metadata": {
        "id": "GgujZ3Xv6-6S",
        "colab": {
          "base_uri": "https://localhost:8080/"
        },
        "outputId": "275e8648-c0d6-4337-cb94-df9e48fe5056"
      },
      "execution_count": null,
      "outputs": [
        {
          "output_type": "stream",
          "name": "stdout",
          "text": [
            "∀𝑥_1 :( ~𝑇(𝑥_1) ∨ ~𝑀(𝑥_1) )\n",
            "∀𝑥_1 ∀𝑦_2 ∀𝑧_3 :( ~𝑀(𝑥_1) ∨ ~𝑀(𝑦_2) ∧ ~𝑀(𝑧_3) )\n",
            "∀x_1 ∀y_2 ∀z_3  :( ~M(x_1) ∨  G(A) ∧ H(x_1, y_2, z_3) )\n",
            " ~T(𝐴𝑟𝑡ℎ𝑢𝑟) ∨ 𝑀(𝐶𝑎𝑟𝑙𝑒𝑡𝑜𝑛)\n",
            " ~T(𝐵𝑒𝑟𝑡𝑟𝑎𝑚) ∨ ~𝑀(𝐵𝑒𝑟𝑡𝑟𝑎𝑚))\n",
            " ~T(𝐶𝑎𝑟𝑙𝑒𝑡𝑜𝑛) ∨ ~𝑀(𝐶𝑎𝑟𝑙𝑒𝑡𝑜𝑛)\n",
            " T(𝐴𝑟𝑡ℎ𝑢𝑟)\n",
            " T(𝐵𝑒𝑟𝑡𝑟𝑎𝑚)\n"
          ]
        }
      ]
    },
    {
      "cell_type": "markdown",
      "source": [
        "# Eliminate_Universal"
      ],
      "metadata": {
        "id": "GUOrIucN2ONm"
      }
    },
    {
      "cell_type": "code",
      "source": [
        "def eliminate_universal(KB):\n",
        "    for i in range(len(KB)):\n",
        "        # Use regex to remove ∀ and any following variable, including optional whitespace\n",
        "        KB[i] = re.sub(r'∀\\w+\\s?', '', KB[i])\n",
        "\n",
        "eliminate_universal(new_KB)\n",
        "\n",
        "for statement in new_KB:\n",
        "    print(statement)\n"
      ],
      "metadata": {
        "id": "RE82TOvH2X-6",
        "colab": {
          "base_uri": "https://localhost:8080/"
        },
        "outputId": "b8d2eb79-c188-48fd-abc2-3d5201566f8d"
      },
      "execution_count": null,
      "outputs": [
        {
          "output_type": "stream",
          "name": "stdout",
          "text": [
            ":( ~𝑇(𝑥_1) ∨ ~𝑀(𝑥_1) )\n",
            ":( ~𝑀(𝑥_1) ∨ ~𝑀(𝑦_2) ∧ ~𝑀(𝑧_3) )\n",
            " :( ~M(x_1) ∨  G(A) ∧ H(x_1, y_2, z_3) )\n",
            " ~T(𝐴𝑟𝑡ℎ𝑢𝑟) ∨ 𝑀(𝐶𝑎𝑟𝑙𝑒𝑡𝑜𝑛)\n",
            " ~T(𝐵𝑒𝑟𝑡𝑟𝑎𝑚) ∨ ~𝑀(𝐵𝑒𝑟𝑡𝑟𝑎𝑚))\n",
            " ~T(𝐶𝑎𝑟𝑙𝑒𝑡𝑜𝑛) ∨ ~𝑀(𝐶𝑎𝑟𝑙𝑒𝑡𝑜𝑛)\n",
            " T(𝐴𝑟𝑡ℎ𝑢𝑟)\n",
            " T(𝐵𝑒𝑟𝑡𝑟𝑎𝑚)\n"
          ]
        }
      ]
    },
    {
      "cell_type": "markdown",
      "source": [
        "# Distribution"
      ],
      "metadata": {
        "id": "95j0ib452btC"
      }
    },
    {
      "cell_type": "code",
      "source": [
        "def distribution(statement):\n",
        "    if '∧' in statement:\n",
        "        parts = re.findall(r'(\\w+\\([^)]+\\))', statement)\n",
        "        if len(parts) > 2:\n",
        "            first_part = parts[0]\n",
        "            remaining_parts = parts[1:]\n",
        "            distributed_parts = []\n",
        "\n",
        "            for part in remaining_parts:\n",
        "                distributed_part = f\"{first_part} ∨ {part}\"\n",
        "                distributed_parts.append(distributed_part)\n",
        "\n",
        "            return '\\n'.join(distributed_parts)\n",
        "    return statement\n",
        "\n",
        "for i in range(len(new_KB)):\n",
        "    new_KB[i] = distribution(new_KB[i])\n",
        "\n",
        "for statement in new_KB:\n",
        "    print(statement)"
      ],
      "metadata": {
        "id": "yd8pa1qW2eBv",
        "colab": {
          "base_uri": "https://localhost:8080/"
        },
        "outputId": "9459cdc6-de47-4957-b119-28c8cb0854b4"
      },
      "execution_count": null,
      "outputs": [
        {
          "output_type": "stream",
          "name": "stdout",
          "text": [
            ":( ~𝑇(𝑥_1) ∨ ~𝑀(𝑥_1) )\n",
            "𝑀(𝑥_1) ∨ 𝑀(𝑦_2)\n",
            "𝑀(𝑥_1) ∨ 𝑀(𝑧_3)\n",
            "M(x_1) ∨ G(A)\n",
            "M(x_1) ∨ H(x_1, y_2, z_3)\n",
            " ~T(𝐴𝑟𝑡ℎ𝑢𝑟) ∨ 𝑀(𝐶𝑎𝑟𝑙𝑒𝑡𝑜𝑛)\n",
            " ~T(𝐵𝑒𝑟𝑡𝑟𝑎𝑚) ∨ ~𝑀(𝐵𝑒𝑟𝑡𝑟𝑎𝑚))\n",
            " ~T(𝐶𝑎𝑟𝑙𝑒𝑡𝑜𝑛) ∨ ~𝑀(𝐶𝑎𝑟𝑙𝑒𝑡𝑜𝑛)\n",
            " T(𝐴𝑟𝑡ℎ𝑢𝑟)\n",
            " T(𝐵𝑒𝑟𝑡𝑟𝑎𝑚)\n"
          ]
        }
      ]
    },
    {
      "cell_type": "markdown",
      "source": [
        "# Negate_goal"
      ],
      "metadata": {
        "id": "WNliAWKw2fhm"
      }
    },
    {
      "cell_type": "code",
      "source": [
        "for statement in goal:\n",
        "    negated_goal = \"~\" + statement.strip(\"~\")\n",
        "    new_KB.append(negated_goal)\n",
        "\n",
        "for statement in new_KB:\n",
        "    print(statement)"
      ],
      "metadata": {
        "id": "Kit4_7Mg2jyV",
        "colab": {
          "base_uri": "https://localhost:8080/"
        },
        "outputId": "eb63be9e-d998-4d0a-bf96-cb0b0b610d06"
      },
      "execution_count": null,
      "outputs": [
        {
          "output_type": "stream",
          "name": "stdout",
          "text": [
            ":( ~𝑇(𝑥_1) ∨ ~𝑀(𝑥_1) )\n",
            "𝑀(𝑥_1) ∨ 𝑀(𝑦_2)\n",
            "𝑀(𝑥_1) ∨ 𝑀(𝑧_3)\n",
            "M(x_1) ∨ G(A)\n",
            "M(x_1) ∨ H(x_1, y_2, z_3)\n",
            " ~T(𝐴𝑟𝑡ℎ𝑢𝑟) ∨ 𝑀(𝐶𝑎𝑟𝑙𝑒𝑡𝑜𝑛)\n",
            " ~T(𝐵𝑒𝑟𝑡𝑟𝑎𝑚) ∨ ~𝑀(𝐵𝑒𝑟𝑡𝑟𝑎𝑚))\n",
            " ~T(𝐶𝑎𝑟𝑙𝑒𝑡𝑜𝑛) ∨ ~𝑀(𝐶𝑎𝑟𝑙𝑒𝑡𝑜𝑛)\n",
            " T(𝐴𝑟𝑡ℎ𝑢𝑟)\n",
            " T(𝐵𝑒𝑟𝑡𝑟𝑎𝑚)\n",
            "~𝑇(𝐶𝑎𝑟𝑙𝑒𝑡𝑜𝑛) \n",
            "~𝑀(𝐴𝑟𝑡ℎ𝑢𝑟)\n"
          ]
        }
      ]
    },
    {
      "cell_type": "markdown",
      "source": [
        "# Arrive to empty clause{ }"
      ],
      "metadata": {
        "id": "GHtxefzOT2Qo"
      }
    },
    {
      "cell_type": "code",
      "source": [
        "def resolution(KB):\n",
        "    # Normalize the kb into CNF if not already in CNF\n",
        "    normalized_KB = KB\n",
        "\n",
        "    # Initialize a set or list to hold new clauses derived during the process\n",
        "    new_clauses = set()\n",
        "\n",
        "    while True:\n",
        "        # Apply the resolution rule to all pairs of clauses in the kb\n",
        "        for i in range(len(normalized_KB)):\n",
        "            for j in range(i + 1, len(normalized_KB)):\n",
        "                resolved_clause = resolve(normalized_KB[i], normalized_KB[j])\n",
        "\n",
        "                # Check if the resolved_clause is the empty\n",
        "                if resolved_clause == \"{}\":\n",
        "                    return True  # Empty clause found, indicating a contradiction or proof completion\n",
        "\n",
        "                if resolved_clause and resolved_clause not in normalized_KB:\n",
        "                    new_clauses.add(resolved_clause)\n",
        "\n",
        "        # If no new clauses were added, stop the process\n",
        "        if not new_clauses:\n",
        "            break\n",
        "\n",
        "        # Add the newly derived clauses to the kb\n",
        "        normalized_KB.update(new_clauses)\n",
        "        new_clauses.clear()\n",
        "\n",
        "    return False\n",
        "\n",
        "def resolve(clause1, clause2):\n",
        "    # Split the clauses into sets of literals\n",
        "    literals1 = set(clause1.split(' ∨ '))\n",
        "    literals2 = set(clause2.split(' ∨ '))\n",
        "\n",
        "    # Find complementary literals and resolve\n",
        "    for literal in literals1:\n",
        "        negation = '¬' + literal if literal[0] != '¬' else literal[1:]\n",
        "        if negation in literals2:\n",
        "            # Remove the complementary literals\n",
        "            new_literals1 = literals1 - {literal}\n",
        "            new_literals2 = literals2 - {negation}\n",
        "            # Combine the remaining literals to form the resolved clause\n",
        "            resolved_clause = ' ∨ '.join(new_literals1 | new_literals2)\n",
        "            return resolved_clause if resolved_clause else \"{}\"  # Return empty clause if no literals remain\n",
        "\n",
        "    # Return None if no resolution is possible\n",
        "    return None\n",
        "\n",
        "\n",
        "# Assuming new_KB is your knowledge base\n",
        "result = resolution(new_KB)\n",
        "print(\"Empty clause derived:\", result)\n"
      ],
      "metadata": {
        "id": "gXpO1jyCw1z8",
        "colab": {
          "base_uri": "https://localhost:8080/"
        },
        "outputId": "e738742a-338b-4b13-dacb-c2327c187dad"
      },
      "execution_count": null,
      "outputs": [
        {
          "output_type": "stream",
          "name": "stdout",
          "text": [
            "Empty clause derived: False\n"
          ]
        }
      ]
    },
    {
      "cell_type": "markdown",
      "source": [
        "# Another way to prove an empty clause"
      ],
      "metadata": {
        "id": "a30t78OglNi3"
      }
    },
    {
      "cell_type": "code",
      "source": [
        "new_KB = \"\"\"\n",
        "~T(x_1) ∨ ~M(x_1)\n",
        "~M(x_1) ∨ ~M(y_2)\n",
        "~M(x_1) ∨ ~M(z_3)\n",
        "~M(x_1) ∨ G(A)\n",
        "~M(x_1) ∨ H(x_1, y_2, z_3)\n",
        "~T(Arthur) ∨ M(Carleton)\n",
        "~T(Bertram) ∨ ~M(Bertram)\n",
        "~T(Carleton) ∨ ~M(Carleton)\n",
        "T(Arthur)\n",
        "T(Bertram)\n",
        "~T(Carleton)\n",
        "~M(Arthur)\n",
        "\"\"\"\n",
        "\n",
        "\n",
        "# Splitting the KB into individual clauses\n",
        "clauses = new_KB.strip().split('\\n')\n",
        "\n",
        "# Splitting each clause at '∨' and adding to the set, while removing content within parentheses\n",
        "terms_set = set()\n",
        "for clause in clauses:\n",
        "    terms = clause.split('∨')\n",
        "    for term in terms:\n",
        "        # Removing content within parentheses\n",
        "        cleaned_term = re.sub(r'\\(.*?\\)', '', term.strip())\n",
        "        terms_set.add(cleaned_term)\n",
        "\n",
        "\n",
        "terms_set"
      ],
      "metadata": {
        "id": "MAfMoInWm-8J",
        "colab": {
          "base_uri": "https://localhost:8080/"
        },
        "outputId": "c524421b-06fd-4fdc-c9d5-4f1e67f86576"
      },
      "execution_count": null,
      "outputs": [
        {
          "output_type": "execute_result",
          "data": {
            "text/plain": [
              "{'G', 'H', 'M', 'T', '~M', '~T'}"
            ]
          },
          "metadata": {},
          "execution_count": 32
        }
      ]
    },
    {
      "cell_type": "code",
      "source": [
        "#if sumition of resolution is 0 that mean it consistent else it will be Non_consistent\n",
        "sum = 0\n",
        "for i in terms_set:\n",
        "    if i.startswith('~'):\n",
        "        sum -= 1\n",
        "    else:\n",
        "        sum += 1\n",
        "if sum==0:\n",
        "    print(\"the resolution is consistent and the result of sum the list is : \", sum)\n",
        "else:\n",
        "    print(\"the resolution is Non_consistent and the result of sum the list is :\", sum)\n"
      ],
      "metadata": {
        "colab": {
          "base_uri": "https://localhost:8080/"
        },
        "id": "PPs2QZnK69FD",
        "outputId": "ddaf5982-d2b1-485c-94aa-fc1ccc5a0c8b"
      },
      "execution_count": null,
      "outputs": [
        {
          "output_type": "stream",
          "name": "stdout",
          "text": [
            "the resolution is Non_consistent and the result of sum the list is : 2\n"
          ]
        }
      ]
    }
  ]
}